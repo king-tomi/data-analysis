{
 "cells": [
  {
   "cell_type": "code",
   "execution_count": 1,
   "metadata": {},
   "outputs": [],
   "source": [
    "import numpy as np\n",
    "import pandas as pd"
   ]
  },
  {
   "cell_type": "code",
   "execution_count": 2,
   "metadata": {},
   "outputs": [],
   "source": [
    "import matplotlib.pyplot as plt\n",
    "import seaborn as sns\n",
    "sns.set()"
   ]
  },
  {
   "cell_type": "code",
   "execution_count": 3,
   "metadata": {},
   "outputs": [],
   "source": [
    "data = pd.read_excel('elect.xlsx')"
   ]
  },
  {
   "cell_type": "code",
   "execution_count": 4,
   "metadata": {},
   "outputs": [],
   "source": [
    "abuja = data.iloc[:4,:]\n",
    "benin = data.iloc[4:8,:]\n",
    "enugu = data.iloc[8:12,:]"
   ]
  },
  {
   "cell_type": "code",
   "execution_count": 5,
   "metadata": {},
   "outputs": [],
   "source": [
    "year = abuja.iloc[:1,:].sum()"
   ]
  },
  {
   "cell_type": "code",
   "execution_count": 6,
   "metadata": {},
   "outputs": [],
   "source": [
    "residential = data[data['Class'] == 'Residential']"
   ]
  },
  {
   "cell_type": "code",
   "execution_count": 7,
   "metadata": {},
   "outputs": [],
   "source": [
    "years = [2015,2016,2017,2018,2019]"
   ]
  },
  {
   "cell_type": "code",
   "execution_count": 8,
   "metadata": {},
   "outputs": [],
   "source": [
    "res_sums = []\n",
    "for year in years:\n",
    "    res = round(residential[year].sum(),2)\n",
    "    res_sums.append(res)"
   ]
  },
  {
   "cell_type": "code",
   "execution_count": 9,
   "metadata": {},
   "outputs": [],
   "source": [
    "commercial = data[data['Class'] == \"Commercial\"]"
   ]
  },
  {
   "cell_type": "code",
   "execution_count": 10,
   "metadata": {},
   "outputs": [],
   "source": [
    "industrial = data[data['Class'] == \"Industial\"]"
   ]
  },
  {
   "cell_type": "code",
   "execution_count": 11,
   "metadata": {},
   "outputs": [],
   "source": [
    "special = data[data['Class'] == \"Special\"]"
   ]
  },
  {
   "cell_type": "code",
   "execution_count": 12,
   "metadata": {},
   "outputs": [],
   "source": [
    "def sum_cloumn(df):\n",
    "    years = [2015,2016,2017,2018,2019]\n",
    "    res = []\n",
    "    for year in years:\n",
    "        sol = round(df[year].sum(),2)\n",
    "        res.append(sol)\n",
    "    return res"
   ]
  },
  {
   "cell_type": "code",
   "execution_count": 13,
   "metadata": {},
   "outputs": [],
   "source": [
    "res_sums = sum_cloumn(residential)\n",
    "com_sums = sum_cloumn(commercial)\n",
    "ind_sums = sum_cloumn(industrial)\n",
    "sp_sums = sum_cloumn(special)"
   ]
  },
  {
   "cell_type": "code",
   "execution_count": 14,
   "metadata": {},
   "outputs": [],
   "source": [
    "class_df = pd.DataFrame(data=[res_sums,com_sums,ind_sums,sp_sums],index=['Residential','Commercial',\"Indutrial\",'Special'],\n",
    "                       columns=['2015','2016','2017','2018','2019'])"
   ]
  },
  {
   "cell_type": "code",
   "execution_count": 15,
   "metadata": {},
   "outputs": [],
   "source": [
    "class_df.to_excel('class.xlsx')"
   ]
  },
  {
   "cell_type": "code",
   "execution_count": 16,
   "metadata": {},
   "outputs": [
    {
     "data": {
      "text/plain": [
       "Index(['Residential', 'Commercial', 'Indutrial', 'Special'], dtype='object', name='Class')"
      ]
     },
     "execution_count": 16,
     "metadata": {},
     "output_type": "execute_result"
    }
   ],
   "source": [
    "class_df.index.rename('Class')"
   ]
  },
  {
   "cell_type": "code",
   "execution_count": 17,
   "metadata": {},
   "outputs": [],
   "source": [
    "class_df.index_col = \"Class\""
   ]
  },
  {
   "cell_type": "code",
   "execution_count": 26,
   "metadata": {},
   "outputs": [
    {
     "data": {
      "text/html": [
       "<div>\n",
       "<style scoped>\n",
       "    .dataframe tbody tr th:only-of-type {\n",
       "        vertical-align: middle;\n",
       "    }\n",
       "\n",
       "    .dataframe tbody tr th {\n",
       "        vertical-align: top;\n",
       "    }\n",
       "\n",
       "    .dataframe thead th {\n",
       "        text-align: right;\n",
       "    }\n",
       "</style>\n",
       "<table border=\"1\" class=\"dataframe\">\n",
       "  <thead>\n",
       "    <tr style=\"text-align: right;\">\n",
       "      <th></th>\n",
       "      <th>Disco</th>\n",
       "      <th>2015</th>\n",
       "      <th>2016</th>\n",
       "      <th>2017</th>\n",
       "      <th>2018</th>\n",
       "      <th>2019</th>\n",
       "    </tr>\n",
       "  </thead>\n",
       "  <tbody>\n",
       "    <tr>\n",
       "      <th>0</th>\n",
       "      <td>Abuja</td>\n",
       "      <td>342.386</td>\n",
       "      <td>509.58</td>\n",
       "      <td>518.66</td>\n",
       "      <td>503.99</td>\n",
       "      <td>428.51</td>\n",
       "    </tr>\n",
       "    <tr>\n",
       "      <th>1</th>\n",
       "      <td>Benin</td>\n",
       "      <td>364.660</td>\n",
       "      <td>578.95</td>\n",
       "      <td>622.31</td>\n",
       "      <td>623.88</td>\n",
       "      <td>618.17</td>\n",
       "    </tr>\n",
       "    <tr>\n",
       "      <th>2</th>\n",
       "      <td>Enugu</td>\n",
       "      <td>434.410</td>\n",
       "      <td>648.25</td>\n",
       "      <td>700.05</td>\n",
       "      <td>701.66</td>\n",
       "      <td>519.69</td>\n",
       "    </tr>\n",
       "    <tr>\n",
       "      <th>3</th>\n",
       "      <td>Eko</td>\n",
       "      <td>378.500</td>\n",
       "      <td>484.15</td>\n",
       "      <td>463.12</td>\n",
       "      <td>424.73</td>\n",
       "      <td>416.13</td>\n",
       "    </tr>\n",
       "    <tr>\n",
       "      <th>4</th>\n",
       "      <td>Ibadan</td>\n",
       "      <td>306.120</td>\n",
       "      <td>442.83</td>\n",
       "      <td>478.47</td>\n",
       "      <td>492.50</td>\n",
       "      <td>493.61</td>\n",
       "    </tr>\n",
       "    <tr>\n",
       "      <th>5</th>\n",
       "      <td>Ikeja</td>\n",
       "      <td>309.330</td>\n",
       "      <td>460.77</td>\n",
       "      <td>449.88</td>\n",
       "      <td>398.75</td>\n",
       "      <td>388.30</td>\n",
       "    </tr>\n",
       "    <tr>\n",
       "      <th>6</th>\n",
       "      <td>Jos</td>\n",
       "      <td>381.540</td>\n",
       "      <td>522.67</td>\n",
       "      <td>562.58</td>\n",
       "      <td>582.77</td>\n",
       "      <td>601.80</td>\n",
       "    </tr>\n",
       "    <tr>\n",
       "      <th>7</th>\n",
       "      <td>Kaduna</td>\n",
       "      <td>381.160</td>\n",
       "      <td>521.68</td>\n",
       "      <td>559.49</td>\n",
       "      <td>586.88</td>\n",
       "      <td>418.63</td>\n",
       "    </tr>\n",
       "    <tr>\n",
       "      <th>8</th>\n",
       "      <td>Kano</td>\n",
       "      <td>349.820</td>\n",
       "      <td>460.12</td>\n",
       "      <td>510.91</td>\n",
       "      <td>577.54</td>\n",
       "      <td>563.02</td>\n",
       "    </tr>\n",
       "    <tr>\n",
       "      <th>9</th>\n",
       "      <td>Port Harcourt</td>\n",
       "      <td>334.790</td>\n",
       "      <td>527.01</td>\n",
       "      <td>580.24</td>\n",
       "      <td>607.86</td>\n",
       "      <td>610.67</td>\n",
       "    </tr>\n",
       "    <tr>\n",
       "      <th>10</th>\n",
       "      <td>Yola</td>\n",
       "      <td>409.140</td>\n",
       "      <td>572.84</td>\n",
       "      <td>715.46</td>\n",
       "      <td>736.94</td>\n",
       "      <td>773.33</td>\n",
       "    </tr>\n",
       "  </tbody>\n",
       "</table>\n",
       "</div>"
      ],
      "text/plain": [
       "            Disco     2015    2016    2017    2018    2019\n",
       "0           Abuja  342.386  509.58  518.66  503.99  428.51\n",
       "1           Benin  364.660  578.95  622.31  623.88  618.17\n",
       "2           Enugu  434.410  648.25  700.05  701.66  519.69\n",
       "3             Eko  378.500  484.15  463.12  424.73  416.13\n",
       "4          Ibadan  306.120  442.83  478.47  492.50  493.61\n",
       "5           Ikeja  309.330  460.77  449.88  398.75  388.30\n",
       "6             Jos  381.540  522.67  562.58  582.77  601.80\n",
       "7          Kaduna  381.160  521.68  559.49  586.88  418.63\n",
       "8            Kano  349.820  460.12  510.91  577.54  563.02\n",
       "9   Port Harcourt  334.790  527.01  580.24  607.86  610.67\n",
       "10           Yola  409.140  572.84  715.46  736.94  773.33"
      ]
     },
     "execution_count": 26,
     "metadata": {},
     "output_type": "execute_result"
    }
   ],
   "source": [
    "disco = pd.read_excel('disco.xlsx')\n",
    "disco"
   ]
  },
  {
   "cell_type": "code",
   "execution_count": 20,
   "metadata": {},
   "outputs": [],
   "source": [
    "customer = pd.read_excel('class.xlsx')"
   ]
  },
  {
   "cell_type": "code",
   "execution_count": 21,
   "metadata": {},
   "outputs": [],
   "source": [
    "customer.columns = ['class',2015,2016,2017,2018,2019]"
   ]
  },
  {
   "cell_type": "code",
   "execution_count": 22,
   "metadata": {},
   "outputs": [
    {
     "data": {
      "text/html": [
       "<div>\n",
       "<style scoped>\n",
       "    .dataframe tbody tr th:only-of-type {\n",
       "        vertical-align: middle;\n",
       "    }\n",
       "\n",
       "    .dataframe tbody tr th {\n",
       "        vertical-align: top;\n",
       "    }\n",
       "\n",
       "    .dataframe thead th {\n",
       "        text-align: right;\n",
       "    }\n",
       "</style>\n",
       "<table border=\"1\" class=\"dataframe\">\n",
       "  <thead>\n",
       "    <tr style=\"text-align: right;\">\n",
       "      <th></th>\n",
       "      <th>class</th>\n",
       "      <th>2015</th>\n",
       "      <th>2016</th>\n",
       "      <th>2017</th>\n",
       "      <th>2018</th>\n",
       "      <th>2019</th>\n",
       "    </tr>\n",
       "  </thead>\n",
       "  <tbody>\n",
       "    <tr>\n",
       "      <th>0</th>\n",
       "      <td>Residential</td>\n",
       "      <td>983.13</td>\n",
       "      <td>1346.90</td>\n",
       "      <td>1447.16</td>\n",
       "      <td>1467.97</td>\n",
       "      <td>1363.68</td>\n",
       "    </tr>\n",
       "    <tr>\n",
       "      <th>1</th>\n",
       "      <td>Commercial</td>\n",
       "      <td>983.00</td>\n",
       "      <td>1432.97</td>\n",
       "      <td>1518.81</td>\n",
       "      <td>1534.17</td>\n",
       "      <td>1441.67</td>\n",
       "    </tr>\n",
       "    <tr>\n",
       "      <th>2</th>\n",
       "      <td>Indutrial</td>\n",
       "      <td>991.77</td>\n",
       "      <td>1403.71</td>\n",
       "      <td>1505.42</td>\n",
       "      <td>1521.47</td>\n",
       "      <td>1425.23</td>\n",
       "    </tr>\n",
       "    <tr>\n",
       "      <th>3</th>\n",
       "      <td>Special</td>\n",
       "      <td>1033.96</td>\n",
       "      <td>1545.27</td>\n",
       "      <td>1689.78</td>\n",
       "      <td>1713.89</td>\n",
       "      <td>1601.28</td>\n",
       "    </tr>\n",
       "  </tbody>\n",
       "</table>\n",
       "</div>"
      ],
      "text/plain": [
       "         class     2015     2016     2017     2018     2019\n",
       "0  Residential   983.13  1346.90  1447.16  1467.97  1363.68\n",
       "1   Commercial   983.00  1432.97  1518.81  1534.17  1441.67\n",
       "2    Indutrial   991.77  1403.71  1505.42  1521.47  1425.23\n",
       "3      Special  1033.96  1545.27  1689.78  1713.89  1601.28"
      ]
     },
     "execution_count": 22,
     "metadata": {},
     "output_type": "execute_result"
    }
   ],
   "source": [
    "customer"
   ]
  },
  {
   "cell_type": "code",
   "execution_count": 23,
   "metadata": {},
   "outputs": [
    {
     "data": {
      "text/plain": [
       "<matplotlib.axes._subplots.AxesSubplot at 0x18e766e5c08>"
      ]
     },
     "execution_count": 23,
     "metadata": {},
     "output_type": "execute_result"
    },
    {
     "data": {
      "image/png": "[encoded data removed]",
      "text/plain": [
       "<Figure size 432x288 with 1 Axes>"
      ]
     },
     "metadata": {},
     "output_type": "display_data"
    }
   ],
   "source": [
    "sns.lineplot(customer[2015],customer[2017])"
   ]
  },
  {
   "cell_type": "code",
   "execution_count": 30,
   "metadata": {},
   "outputs": [],
   "source": [
    "def sum_row(row):\n",
    "    \"\"\"A function to find the average of each row\n",
    "    \n",
    "    arguments\n",
    "    \n",
    "    row: a pandas row or numpy array\n",
    "    \n",
    "    returns: an average\n",
    "    \n",
    "    :rtype : float64\"\"\"\n",
    "    res = 0\n",
    "    for item in row:\n",
    "        res += item\n",
    "    return res / len(row)"
   ]
  },
  {
   "cell_type": "code",
   "execution_count": 32,
   "metadata": {},
   "outputs": [],
   "source": [
    "temp = disco.drop(['Disco'],axis=1)"
   ]
  },
  {
   "cell_type": "code",
   "execution_count": 33,
   "metadata": {},
   "outputs": [],
   "source": [
    "sums = []\n",
    "for index,row in temp.iterrows():\n",
    "    avg = sum_row(row)\n",
    "    sums.append(avg)"
   ]
  },
  {
   "cell_type": "code",
   "execution_count": 34,
   "metadata": {},
   "outputs": [
    {
     "data": {
      "text/plain": [
       "[460.62520000000006,\n",
       " 561.594,\n",
       " 600.812,\n",
       " 433.326,\n",
       " 442.706,\n",
       " 401.406,\n",
       " 530.2719999999999,\n",
       " 493.56800000000004,\n",
       " 492.282,\n",
       " 532.114,\n",
       " 641.542]"
      ]
     },
     "execution_count": 34,
     "metadata": {},
     "output_type": "execute_result"
    }
   ],
   "source": [
    "sums"
   ]
  },
  {
   "cell_type": "code",
   "execution_count": 35,
   "metadata": {},
   "outputs": [],
   "source": [
    "year_average = [362.896000,520.804545,560.106364,567.045455,530.169091]"
   ]
  },
  {
   "cell_type": "code",
   "execution_count": 37,
   "metadata": {},
   "outputs": [
    {
     "data": {
      "text/plain": [
       "5590.247200000001"
      ]
     },
     "execution_count": 37,
     "metadata": {},
     "output_type": "execute_result"
    }
   ],
   "source": [
    "sum(sums)"
   ]
  },
  {
   "cell_type": "code",
   "execution_count": 38,
   "metadata": {},
   "outputs": [
    {
     "data": {
      "text/plain": [
       "2541.021455"
      ]
     },
     "execution_count": 38,
     "metadata": {},
     "output_type": "execute_result"
    }
   ],
   "source": [
    "sum(year_average)"
   ]
  },
  {
   "cell_type": "code",
   "execution_count": null,
   "metadata": {},
   "outputs": [],
   "source": []
  }
 ],
 "metadata": {
  "kernelspec": {
   "display_name": "Python 3",
   "language": "python",
   "name": "python3"
  },
  "language_info": {
   "codemirror_mode": {
    "name": "ipython",
    "version": 3
   },
   "file_extension": ".py",
   "mimetype": "text/x-python",
   "name": "python",
   "nbconvert_exporter": "python",
   "pygments_lexer": "ipython3",
   "version": "3.7.6"
  }
 },
 "nbformat": 4,
 "nbformat_minor": 4
}
